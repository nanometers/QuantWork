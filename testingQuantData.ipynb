{
  "nbformat": 4,
  "nbformat_minor": 0,
  "metadata": {
    "colab": {
      "name": "testingQuantData.ipynb",
      "version": "0.3.2",
      "provenance": []
    },
    "kernelspec": {
      "name": "python3",
      "display_name": "Python 3"
    }
  },
  "cells": [
    {
      "cell_type": "markdown",
      "metadata": {
        "id": "view-in-github",
        "colab_type": "text"
      },
      "source": [
        "[View in Colaboratory](https://colab.research.google.com/github/nanometers/QuantWork/blob/master/testingQuantData.ipynb)"
      ]
    },
    {
      "metadata": {
        "id": "PicAnlazUmsM",
        "colab_type": "code",
        "colab": {
          "base_uri": "https://localhost:8080/",
          "height": 537
        },
        "outputId": "3332d1e9-5c71-4084-c18c-c1554aff93fc"
      },
      "cell_type": "code",
      "source": [
        "!pip install pandas\n",
        "!pip install pandas-datareader\n",
        "!pip install numpy\n",
        "!pip install sklearn\n",
        "!pip install matplotlib"
      ],
      "execution_count": 42,
      "outputs": [
        {
          "output_type": "stream",
          "text": [
            "Requirement already satisfied: pandas in /usr/local/lib/python3.6/dist-packages (0.22.0)\r\n",
            "Requirement already satisfied: python-dateutil>=2 in /usr/local/lib/python3.6/dist-packages (from pandas) (2.5.3)\r\n",
            "Requirement already satisfied: pytz>=2011k in /usr/local/lib/python3.6/dist-packages (from pandas) (2018.4)\r\n",
            "Requirement already satisfied: numpy>=1.9.0 in /usr/local/lib/python3.6/dist-packages (from pandas) (1.14.3)\r\n",
            "Requirement already satisfied: six>=1.5 in /usr/local/lib/python3.6/dist-packages (from python-dateutil>=2->pandas) (1.11.0)\n",
            "Requirement already satisfied: pandas-datareader in /usr/local/lib/python3.6/dist-packages (0.6.0)\n",
            "Requirement already satisfied: lxml in /usr/local/lib/python3.6/dist-packages (from pandas-datareader) (4.2.1)\n",
            "Requirement already satisfied: requests-file in /usr/local/lib/python3.6/dist-packages (from pandas-datareader) (1.4.3)\n",
            "Requirement already satisfied: pandas>=0.19.2 in /usr/local/lib/python3.6/dist-packages (from pandas-datareader) (0.22.0)\n",
            "Requirement already satisfied: requests>=2.3.0 in /usr/local/lib/python3.6/dist-packages (from pandas-datareader) (2.18.4)\n",
            "Requirement already satisfied: requests-ftp in /usr/local/lib/python3.6/dist-packages (from pandas-datareader) (0.3.1)\n",
            "Requirement already satisfied: wrapt in /usr/local/lib/python3.6/dist-packages (from pandas-datareader) (1.10.11)\n",
            "Requirement already satisfied: six in /usr/local/lib/python3.6/dist-packages (from requests-file->pandas-datareader) (1.11.0)\n",
            "Requirement already satisfied: numpy>=1.9.0 in /usr/local/lib/python3.6/dist-packages (from pandas>=0.19.2->pandas-datareader) (1.14.3)\n",
            "Requirement already satisfied: pytz>=2011k in /usr/local/lib/python3.6/dist-packages (from pandas>=0.19.2->pandas-datareader) (2018.4)\n",
            "Requirement already satisfied: python-dateutil>=2 in /usr/local/lib/python3.6/dist-packages (from pandas>=0.19.2->pandas-datareader) (2.5.3)\n",
            "Requirement already satisfied: idna<2.7,>=2.5 in /usr/local/lib/python3.6/dist-packages (from requests>=2.3.0->pandas-datareader) (2.6)\n",
            "Requirement already satisfied: urllib3<1.23,>=1.21.1 in /usr/local/lib/python3.6/dist-packages (from requests>=2.3.0->pandas-datareader) (1.22)\n",
            "Requirement already satisfied: chardet<3.1.0,>=3.0.2 in /usr/local/lib/python3.6/dist-packages (from requests>=2.3.0->pandas-datareader) (3.0.4)\n",
            "Requirement already satisfied: certifi>=2017.4.17 in /usr/local/lib/python3.6/dist-packages (from requests>=2.3.0->pandas-datareader) (2018.4.16)\n",
            "Requirement already satisfied: numpy in /usr/local/lib/python3.6/dist-packages (1.14.3)\n",
            "Requirement already satisfied: sklearn in /usr/local/lib/python3.6/dist-packages (0.0)\n",
            "Requirement already satisfied: scikit-learn in /usr/local/lib/python3.6/dist-packages (from sklearn) (0.19.1)\n",
            "Requirement already satisfied: matplotlib in /usr/local/lib/python3.6/dist-packages (2.1.2)\n",
            "Requirement already satisfied: pytz in /usr/local/lib/python3.6/dist-packages (from matplotlib) (2018.4)\n",
            "Requirement already satisfied: six>=1.10 in /usr/local/lib/python3.6/dist-packages (from matplotlib) (1.11.0)\n",
            "Requirement already satisfied: pyparsing!=2.0.4,!=2.1.2,!=2.1.6,>=2.0.1 in /usr/local/lib/python3.6/dist-packages (from matplotlib) (2.2.0)\n",
            "Requirement already satisfied: python-dateutil>=2.1 in /usr/local/lib/python3.6/dist-packages (from matplotlib) (2.5.3)\n",
            "Requirement already satisfied: numpy>=1.7.1 in /usr/local/lib/python3.6/dist-packages (from matplotlib) (1.14.3)\n",
            "Requirement already satisfied: cycler>=0.10 in /usr/local/lib/python3.6/dist-packages (from matplotlib) (0.10.0)\n"
          ],
          "name": "stdout"
        }
      ]
    },
    {
      "metadata": {
        "id": "RDT6K4asTpad",
        "colab_type": "code",
        "colab": {}
      },
      "cell_type": "code",
      "source": [
        "from pandas_datareader import data as web\n",
        "import numpy as np\n",
        "from sklearn.linear_model import Lasso\n",
        "from sklearn.preprocessing import StandardScaler\n",
        "from sklearn.model_selection import RandomizedSearchCV as rcv\n",
        "from sklearn.pipeline import Pipeline\n",
        "from sklearn.preprocessing import Imputer\n",
        "import matplotlib.pyplot as plt\n",
        "from IPython import get_ipython"
      ],
      "execution_count": 0,
      "outputs": []
    },
    {
      "metadata": {
        "id": "dYkU8YzlUUIN",
        "colab_type": "code",
        "colab": {}
      },
      "cell_type": "code",
      "source": [
        "avg_err = {}\n",
        "avg_train_err = {}\n",
        "df = web.DataReader('SPY', 'morningstar', start = '2007-01-01', end = '2017-01-01')\n",
        "df = df[['Open', 'High', 'Low', 'Close', 'Volume']]\n",
        "df['open'] = df['Open'].shift(1)\n",
        "df['high'] = df['High'].shift(1)\n",
        "df['low'] = df['Low'].shift(1)\n",
        "df['close'] = df['Close'].shift(1)\n",
        "df['volume'] = df['Volume'].shift(1)"
      ],
      "execution_count": 0,
      "outputs": []
    },
    {
      "metadata": {
        "id": "X4aBpxHyaNS2",
        "colab_type": "code",
        "colab": {
          "base_uri": "https://localhost:8080/",
          "height": 233
        },
        "outputId": "b9c1849e-9d37-4d4d-cb4e-18f53703fb23"
      },
      "cell_type": "code",
      "source": [
        "df.head()"
      ],
      "execution_count": 45,
      "outputs": [
        {
          "output_type": "execute_result",
          "data": {
            "text/html": [
              "<div>\n",
              "<style scoped>\n",
              "    .dataframe tbody tr th:only-of-type {\n",
              "        vertical-align: middle;\n",
              "    }\n",
              "\n",
              "    .dataframe tbody tr th {\n",
              "        vertical-align: top;\n",
              "    }\n",
              "\n",
              "    .dataframe thead th {\n",
              "        text-align: right;\n",
              "    }\n",
              "</style>\n",
              "<table border=\"1\" class=\"dataframe\">\n",
              "  <thead>\n",
              "    <tr style=\"text-align: right;\">\n",
              "      <th></th>\n",
              "      <th></th>\n",
              "      <th>Open</th>\n",
              "      <th>High</th>\n",
              "      <th>Low</th>\n",
              "      <th>Close</th>\n",
              "      <th>Volume</th>\n",
              "      <th>open</th>\n",
              "      <th>high</th>\n",
              "      <th>low</th>\n",
              "      <th>close</th>\n",
              "      <th>volume</th>\n",
              "    </tr>\n",
              "    <tr>\n",
              "      <th>Symbol</th>\n",
              "      <th>Date</th>\n",
              "      <th></th>\n",
              "      <th></th>\n",
              "      <th></th>\n",
              "      <th></th>\n",
              "      <th></th>\n",
              "      <th></th>\n",
              "      <th></th>\n",
              "      <th></th>\n",
              "      <th></th>\n",
              "      <th></th>\n",
              "    </tr>\n",
              "  </thead>\n",
              "  <tbody>\n",
              "    <tr>\n",
              "      <th rowspan=\"5\" valign=\"top\">SPY</th>\n",
              "      <th>2007-01-01</th>\n",
              "      <td>142.06</td>\n",
              "      <td>142.54</td>\n",
              "      <td>141.43</td>\n",
              "      <td>141.62</td>\n",
              "      <td>0</td>\n",
              "      <td>NaN</td>\n",
              "      <td>NaN</td>\n",
              "      <td>NaN</td>\n",
              "      <td>NaN</td>\n",
              "      <td>NaN</td>\n",
              "    </tr>\n",
              "    <tr>\n",
              "      <th>2007-01-02</th>\n",
              "      <td>142.06</td>\n",
              "      <td>142.54</td>\n",
              "      <td>141.43</td>\n",
              "      <td>141.62</td>\n",
              "      <td>0</td>\n",
              "      <td>142.06</td>\n",
              "      <td>142.54</td>\n",
              "      <td>141.43</td>\n",
              "      <td>141.62</td>\n",
              "      <td>0.0</td>\n",
              "    </tr>\n",
              "    <tr>\n",
              "      <th>2007-01-03</th>\n",
              "      <td>142.25</td>\n",
              "      <td>142.86</td>\n",
              "      <td>140.57</td>\n",
              "      <td>141.37</td>\n",
              "      <td>94807600</td>\n",
              "      <td>142.06</td>\n",
              "      <td>142.54</td>\n",
              "      <td>141.43</td>\n",
              "      <td>141.62</td>\n",
              "      <td>0.0</td>\n",
              "    </tr>\n",
              "    <tr>\n",
              "      <th>2007-01-04</th>\n",
              "      <td>141.23</td>\n",
              "      <td>142.05</td>\n",
              "      <td>140.61</td>\n",
              "      <td>141.67</td>\n",
              "      <td>69620600</td>\n",
              "      <td>142.25</td>\n",
              "      <td>142.86</td>\n",
              "      <td>140.57</td>\n",
              "      <td>141.37</td>\n",
              "      <td>94807600.0</td>\n",
              "    </tr>\n",
              "    <tr>\n",
              "      <th>2007-01-05</th>\n",
              "      <td>141.33</td>\n",
              "      <td>141.40</td>\n",
              "      <td>140.38</td>\n",
              "      <td>140.54</td>\n",
              "      <td>76645300</td>\n",
              "      <td>141.23</td>\n",
              "      <td>142.05</td>\n",
              "      <td>140.61</td>\n",
              "      <td>141.67</td>\n",
              "      <td>69620600.0</td>\n",
              "    </tr>\n",
              "  </tbody>\n",
              "</table>\n",
              "</div>"
            ],
            "text/plain": [
              "                     Open    High     Low   Close    Volume    open    high  \\\n",
              "Symbol Date                                                                   \n",
              "SPY    2007-01-01  142.06  142.54  141.43  141.62         0     NaN     NaN   \n",
              "       2007-01-02  142.06  142.54  141.43  141.62         0  142.06  142.54   \n",
              "       2007-01-03  142.25  142.86  140.57  141.37  94807600  142.06  142.54   \n",
              "       2007-01-04  141.23  142.05  140.61  141.67  69620600  142.25  142.86   \n",
              "       2007-01-05  141.33  141.40  140.38  140.54  76645300  141.23  142.05   \n",
              "\n",
              "                      low   close      volume  \n",
              "Symbol Date                                    \n",
              "SPY    2007-01-01     NaN     NaN         NaN  \n",
              "       2007-01-02  141.43  141.62         0.0  \n",
              "       2007-01-03  141.43  141.62         0.0  \n",
              "       2007-01-04  140.57  141.37  94807600.0  \n",
              "       2007-01-05  140.61  141.67  69620600.0  "
            ]
          },
          "metadata": {
            "tags": []
          },
          "execution_count": 45
        }
      ]
    },
    {
      "metadata": {
        "id": "CjuDu3E3U9pc",
        "colab_type": "code",
        "colab": {
          "base_uri": "https://localhost:8080/",
          "height": 382
        },
        "outputId": "3efe27d7-1714-45f4-e527-2b7fc58b7a16"
      },
      "cell_type": "code",
      "source": [
        "\n",
        "X = df[['open', 'high', 'low', 'close']]\n",
        "y = df['Close']\n",
        "\n",
        "imp = Imputer(missing_values = 'NaN', strategy = 'mean', axis = 0)\n",
        "\n",
        "steps = [('imputation', imp), ('scaler', StandardScaler()), ('lasso', Lasso())]\n",
        "\n",
        "pipeline = Pipeline(steps)\n",
        "\n",
        "parameters = {'lasso__alpha': np.arange(.0001, 10, .0001), \n",
        "             'lasso__max_iter': np.random.uniform(100, 1000000, 4)}\n",
        "\n",
        "reg = rcv(pipeline, parameters, cv = 5)\n",
        "\n",
        "for t in np.arange(50, 97, 3):\n",
        "  get_ipython().magic('reset_selective -f reg1')\n",
        "  split = int(t*len(X)/100)\n",
        "  reg.fit(X[:split], y[:split])\n",
        "  best_alpha = reg.best_params_['lasso__alpha']\n",
        "  best_iter = reg.best_params_['lasso__max_iter']\n",
        "  reg1 = Lasso(alpha = best_alpha, max_iter = best_iter)\n",
        "  X = imp.fit_transform(X, y)\n",
        "  reg1.fit(X[:split], y[:split])\n",
        "  \n",
        "  df['P_C_%i'%t] = 0\n",
        "  df.iloc[:,df.columns.get_loc('P_C_%i'%t)] = reg1.predict(X[:])\n",
        "  df['Error_%i'%t] = np.abs(df['P_C_%i'%t] - df['Close'])\n",
        "  \n",
        "  e = np.mean(df['Error_%i'%t][split:])\n",
        "  train_e = np.mean(df['Error_%i'%t][:split])\n",
        "  avg_err[t] = e\n",
        "  avg_train_err[t] = train_e\n",
        "\n",
        "Range = df['high'][split:] - df['low'][split:]\n",
        "\n",
        "plt.scatter(list(avg_err.keys()), list(avg_err.values()), label = 'test_error')\n",
        "plt.scatter(list(avg_train_err.keys()), list(avg_train_err.values()), label = 'train_error')\n",
        "plt.legend(loc='best')\n",
        "print('\\nAverage Range of the Day:', np.average(Range))\n"
      ],
      "execution_count": 46,
      "outputs": [
        {
          "output_type": "stream",
          "text": [
            "\n",
            "Average Range of the Day: 1.5074435114503804\n"
          ],
          "name": "stdout"
        },
        {
          "output_type": "display_data",
          "data": {
            "image/png": "[encoded data removed]",
            "text/plain": [
              "<matplotlib.figure.Figure at 0x7fcd328936d8>"
            ]
          },
          "metadata": {
            "tags": []
          }
        }
      ]
    },
    {
      "metadata": {
        "id": "N0tgcGUvV3qC",
        "colab_type": "code",
        "colab": {}
      },
      "cell_type": "code",
      "source": [
        ""
      ],
      "execution_count": 0,
      "outputs": []
    }
  ]
}